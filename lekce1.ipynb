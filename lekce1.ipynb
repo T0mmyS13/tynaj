{
 "cells": [
  {
   "cell_type": "markdown",
   "id": "7a737f76",
   "metadata": {},
   "source": [
    "# Python Datové struktury – cvičení"
   ]
  },
  {
   "cell_type": "markdown",
   "id": "c965931f",
   "metadata": {},
   "source": [
    "## Úvod\n",
    "\n",
    "V této lekci si zopakujeme základní datové struktury v Pythonu:\n",
    "- **Seznamy (List)** - měnitelné, uspořádané kolekce\n",
    "- **N-tice (Tuple)** - neměnitelné, uspořádané kolekce  \n",
    "- **Množiny (Set)** - neměnitelné, neuspořádané kolekce unikátních prvků\n",
    "- **Slovníky (Dict)** - měnitelné kolekce párů klíč-hodnota\n",
    "\n",
    "Každá sekce obsahuje krátké připomenutí syntaxe a praktické cvičení."
   ]
  },
  {
   "cell_type": "markdown",
   "id": "42beca9a",
   "metadata": {},
   "source": [
    "### Připomenutí syntaxe pro seznamy:\n",
    "```python\n",
    "# Vytvoření seznamu\n",
    "muj_seznam = [\"prvek1\", \"prvek2\", \"prvek3\"]\n",
    "prazdny_seznam = []\n",
    "\n",
    "# Základní operace\n",
    "muj_seznam.append(\"nový prvek\")    # přidání na konec\n",
    "muj_seznam.insert(0, \"začátek\")    # vložení na pozici\n",
    "muj_seznam.remove(\"prvek1\")        # smazání prvku\n",
    "del muj_seznam[0]                  # smazání podle indexu\n",
    "muj_seznam.sort()                  # seřazení\n",
    "len(muj_seznam)                    # délka seznamu\n",
    "muj_seznam[0]                      # první prvek\n",
    "muj_seznam[-1]                     # poslední prvek\n",
    "```"
   ]
  },
  {
   "cell_type": "markdown",
   "id": "b48ed4c3",
   "metadata": {},
   "source": [
    "## 1. Seznamy (List)\n",
    "\n",
    "### Úkoly:\n",
    "1. Vytvoř seznam pěti oblíbených filmů.  \n",
    "2. Přidej do seznamu jeden nový film.  \n",
    "3. Smaž jeden film ze seznamu.  \n",
    "4. Seřaď seznam podle abecedy.  \n",
    "5. Vypiš první a poslední film."
   ]
  },
  {
   "cell_type": "code",
   "execution_count": null,
   "id": "cbc10ba4",
   "metadata": {},
   "outputs": [],
   "source": [
    "# Sem napiš svůj kód"
   ]
  },
  {
   "cell_type": "code",
   "execution_count": null,
   "id": "b885955b",
   "metadata": {},
   "outputs": [],
   "source": [
    "# Ukázkové řešení - odkomentuj a spusť:\n",
    "\n",
    "# 1. Vytvoř seznam pěti oblíbených filmů\n",
    "# filmy = [\"Matrix\", \"Interstellar\", \"Inception\", \"Avatar\", \"Star Wars\"]\n",
    "# print(\"Původní seznam:\", filmy)\n",
    "\n",
    "# 2. Přidej do seznamu jeden nový film\n",
    "# filmy.append(\"Dune\")\n",
    "# print(\"Po přidání:\", filmy)\n",
    "\n",
    "# 3. Smaž jeden film ze seznamu\n",
    "# filmy.remove(\"Avatar\")\n",
    "# print(\"Po smazání Avatar:\", filmy)\n",
    "\n",
    "# 4. Seřaď seznam podle abecedy\n",
    "# filmy.sort()\n",
    "# print(\"Seřazený seznam:\", filmy)\n",
    "\n",
    "# 5. Vypiš první a poslední film\n",
    "# print(\"První film:\", filmy[0])\n",
    "# print(\"Poslední film:\", filmy[-1])"
   ]
  },
  {
   "cell_type": "markdown",
   "id": "eeddd5ca",
   "metadata": {},
   "source": [
    "## 2. N-tice (Tuple)\n",
    "\n",
    "### Úkoly:\n",
    "1. Vytvoř n-tici se souřadnicemi `(x, y)`.  \n",
    "2. Pokus se změnit hodnotu – co se stane?  \n",
    "3. Vytvoř n-tici s názvem města, počtem obyvatel a státem."
   ]
  },
  {
   "cell_type": "markdown",
   "id": "d5a93bf3",
   "metadata": {},
   "source": [
    "### Připomenutí syntaxe pro n-tice:\n",
    "```python\n",
    "# Vytvoření n-tice\n",
    "moje_ntice = (1, 2, 3)\n",
    "souradnice = (10, 20)\n",
    "jedna_hodnota = (42,)  # pozor na čárku!\n",
    "\n",
    "# Přístup k prvkům\n",
    "x = souradnice[0]\n",
    "y = souradnice[1]\n",
    "\n",
    "# Rozbalení (unpacking)\n",
    "x, y = souradnice\n",
    "\n",
    "# N-tice jsou neměnitelné!\n",
    "# souradnice[0] = 15  # Toto vyvolá chybu!\n",
    "```"
   ]
  },
  {
   "cell_type": "code",
   "execution_count": null,
   "id": "43e39db4",
   "metadata": {},
   "outputs": [],
   "source": [
    "# Sem napiš svůj kód"
   ]
  },
  {
   "cell_type": "code",
   "execution_count": null,
   "id": "54aac70b",
   "metadata": {},
   "outputs": [],
   "source": [
    "# Ukázkové řešení - odkomentuj a spusť:\n",
    "\n",
    "# 1. Vytvoř n-tici se souřadnicemi (x, y)\n",
    "# souradnice = (15, 25)\n",
    "# print(\"Souřadnice:\", souradnice)\n",
    "# print(\"X:\", souradnice[0], \"Y:\", souradnice[1])\n",
    "\n",
    "# 2. Pokus se změnit hodnotu – co se stane?\n",
    "# try:\n",
    "#     souradnice[0] = 100\n",
    "# except TypeError as e:\n",
    "#     print(\"Chyba:\", e)\n",
    "#     print(\"N-tice jsou neměnitelné!\")\n",
    "\n",
    "# 3. Vytvoř n-tici s názvem města, počtem obyvatel a státem\n",
    "# mesto = (\"Praha\", 1280000, \"Česká republika\")\n",
    "# nazev, obyvatele, stat = mesto  # rozbalení\n",
    "# print(f\"Město: {nazev}\")\n",
    "# print(f\"Počet obyvatel: {obyvatele}\")\n",
    "# print(f\"Stát: {stat}\")"
   ]
  },
  {
   "cell_type": "markdown",
   "id": "378369ea",
   "metadata": {},
   "source": [
    "## 3. Množiny (Set)\n",
    "\n",
    "### Úkoly:\n",
    "1. Vytvoř množinu jmen, kde se některá jména opakují (např. `[\"Petr\", \"Jana\", \"Petr\", \"Eva\"]`).  \n",
    "2. Spoj dvě množiny (např. sporty venku a sporty uvnitř).  \n",
    "3. Najdi průnik dvou množin.  \n",
    "4. Odstraň jedno jméno ze setu."
   ]
  },
  {
   "cell_type": "markdown",
   "id": "6c1da33e",
   "metadata": {},
   "source": [
    "### Připomenutí syntaxe pro množiny:\n",
    "```python\n",
    "# Vytvoření množiny\n",
    "moje_mnozina = {1, 2, 3, 4}\n",
    "prazdna_mnozina = set()  # pozor: {} vytvoří slovník!\n",
    "ze_seznamu = set([1, 2, 2, 3])  # duplicity se automaticky odstraní\n",
    "\n",
    "# Základní operace\n",
    "mnozina1 = {1, 2, 3}\n",
    "mnozina2 = {3, 4, 5}\n",
    "\n",
    "sjednoceni = mnozina1 | mnozina2      # nebo mnozina1.union(mnozina2)\n",
    "prunik = mnozina1 & mnozina2          # nebo mnozina1.intersection(mnozina2)\n",
    "rozdil = mnozina1 - mnozina2          # nebo mnozina1.difference(mnozina2)\n",
    "\n",
    "# Přidání a odebrání prvků\n",
    "moje_mnozina.add(\"nový prvek\")\n",
    "moje_mnozina.remove(\"prvek\")  # vyvolá chybu, pokud prvek neexistuje\n",
    "moje_mnozina.discard(\"prvek\") # nevyvolá chybu\n",
    "```"
   ]
  },
  {
   "cell_type": "code",
   "execution_count": null,
   "id": "01f8bea7",
   "metadata": {},
   "outputs": [],
   "source": [
    "# Sem napiš svůj kód"
   ]
  },
  {
   "cell_type": "code",
   "execution_count": null,
   "id": "a46e909d",
   "metadata": {},
   "outputs": [],
   "source": [
    "# Ukázkové řešení - odkomentuj a spusť:\n",
    "\n",
    "# 1. Vytvoř množinu jmen, kde se některá jména opakují\n",
    "# jmena_seznam = [\"Petr\", \"Jana\", \"Petr\", \"Eva\", \"Jana\", \"Tomáš\"]\n",
    "# jmena_mnozina = set(jmena_seznam)\n",
    "# print(\"Seznam s duplicity:\", jmena_seznam)\n",
    "# print(\"Množina (bez duplicit):\", jmena_mnozina)\n",
    "\n",
    "# 2. Spoj dvě množiny (např. sporty venku a sporty uvnitř)\n",
    "# sporty_venku = {\"fotbal\", \"tenis\", \"běh\", \"cyklistika\"}\n",
    "# sporty_vevnitř = {\"basketbal\", \"volejbal\", \"ping-pong\", \"šachy\"}\n",
    "# vsechny_sporty = sporty_venku | sporty_vevnitř\n",
    "# print(\"Sporty venku:\", sporty_venku)\n",
    "# print(\"Sporty uvnitř:\", sporty_vevnitř)\n",
    "# print(\"Všechny sporty:\", vsechny_sporty)\n",
    "\n",
    "# 3. Najdi průnik dvou množin\n",
    "# letni_sporty = {\"fotbal\", \"tenis\", \"běh\", \"plavání\", \"volejbal\"}\n",
    "# zimni_sporty = {\"hokej\", \"lyžování\", \"běh\", \"volejbal\", \"šachy\"}\n",
    "# celorocni_sporty = letni_sporty & zimni_sporty\n",
    "# print(\"Průnik (celoroční sporty):\", celorocni_sporty)\n",
    "\n",
    "# 4. Odstraň jedno jméno ze setu\n",
    "# jmena_mnozina.discard(\"Petr\")\n",
    "# print(\"Po odebrání Petra:\", jmena_mnozina)"
   ]
  },
  {
   "cell_type": "markdown",
   "id": "ee9ee79c",
   "metadata": {},
   "source": [
    "## 4. Slovníky (Dict)\n",
    "\n",
    "### Úkoly:\n",
    "1. Vytvoř slovník o studentovi, např.:  \n",
    "   `{ \"jmeno\": \"Tomáš\", \"vek\": 22, \"jazyk\": \"Python\" }`  \n",
    "2. Přidej nový klíč `mesto`.  \n",
    "3. Vypiš všechny klíče a hodnoty ve slovníku.  \n",
    "4. Změň hodnotu klíče `jazyk`."
   ]
  },
  {
   "cell_type": "markdown",
   "id": "36a998f1",
   "metadata": {},
   "source": [
    "### Připomenutí syntaxe pro slovníky:\n",
    "```python\n",
    "# Vytvoření slovníku\n",
    "muj_slovnik = {\"klíč1\": \"hodnota1\", \"klíč2\": \"hodnota2\"}\n",
    "prazdny_slovnik = {}\n",
    "\n",
    "# Přístup k hodnotám\n",
    "hodnota = muj_slovnik[\"klíč1\"]\n",
    "hodnota = muj_slovnik.get(\"klíč1\", \"výchozí\")  # bezpečnější\n",
    "\n",
    "# Přidání/změna hodnot\n",
    "muj_slovnik[\"nový_klíč\"] = \"nová hodnota\"\n",
    "muj_slovnik[\"klíč1\"] = \"upravená hodnota\"\n",
    "\n",
    "# Procházení slovníku\n",
    "for klic in muj_slovnik.keys():      # pouze klíče\n",
    "    print(klic)\n",
    "\n",
    "for hodnota in muj_slovnik.values(): # pouze hodnoty\n",
    "    print(hodnota)\n",
    "\n",
    "for klic, hodnota in muj_slovnik.items():  # klíče i hodnoty\n",
    "    print(f\"{klic}: {hodnota}\")\n",
    "\n",
    "# Odebrání prvků\n",
    "del muj_slovnik[\"klíč1\"]\n",
    "hodnota = muj_slovnik.pop(\"klíč2\", \"výchozí\")\n",
    "```"
   ]
  },
  {
   "cell_type": "code",
   "execution_count": null,
   "id": "d92d7302",
   "metadata": {},
   "outputs": [],
   "source": [
    "# Sem napiš svůj kód"
   ]
  },
  {
   "cell_type": "code",
   "execution_count": null,
   "id": "0b6d7893",
   "metadata": {},
   "outputs": [],
   "source": [
    "# Ukázkové řešení - odkomentuj a spusť:\n",
    "\n",
    "# 1. Vytvoř slovník o studentovi\n",
    "# student = {\"jmeno\": \"Tomáš\", \"vek\": 22, \"jazyk\": \"Python\"}\n",
    "# print(\"Původní slovník:\", student)\n",
    "\n",
    "# 2. Přidej nový klíč mesto\n",
    "# student[\"mesto\"] = \"Praha\"\n",
    "# print(\"Po přidání města:\", student)\n",
    "\n",
    "# 3. Vypiš všechny klíče a hodnoty ve slovníku\n",
    "# print(\"\\nKlíče:\", list(student.keys()))\n",
    "# print(\"Hodnoty:\", list(student.values()))\n",
    "# print(\"\\nVšechny páry klíč-hodnota:\")\n",
    "# for klic, hodnota in student.items():\n",
    "#     print(f\"  {klic}: {hodnota}\")\n",
    "\n",
    "# 4. Změň hodnotu klíče jazyk\n",
    "# student[\"jazyk\"] = \"JavaScript\"\n",
    "# print(\"\\nPo změně jazyka:\", student)"
   ]
  },
  {
   "cell_type": "markdown",
   "id": "7cec0e6b",
   "metadata": {},
   "source": [
    "## 5. Mini projekt – Knihy\n",
    "\n",
    "Máš seznam knih uložených jako seznam slovníků:\n",
    "\n",
    "```python\n",
    "knihy = [\n",
    "    {\"nazev\": \"1984\", \"autor\": \"Orwell\", \"rok\": 1949},\n",
    "    {\"nazev\": \"Hobit\", \"autor\": \"Tolkien\", \"rok\": 1937},\n",
    "    {\"nazev\": \"Harry Potter\", \"autor\": \"Rowling\", \"rok\": 1997}\n",
    "]\n",
    "```\n",
    "\n",
    "### Úkoly:\n",
    "1. Přidej novou knihu.  \n",
    "2. Vypiš všechny názvy knih.  \n",
    "3. Najdi všechny knihy vydané po roce 1950."
   ]
  },
  {
   "cell_type": "code",
   "execution_count": null,
   "id": "45afe29b",
   "metadata": {},
   "outputs": [],
   "source": [
    "# Sem napiš svůj kód"
   ]
  },
  {
   "cell_type": "code",
   "execution_count": null,
   "id": "dfec4186",
   "metadata": {},
   "outputs": [],
   "source": [
    "# Ukázkové řešení - odkomentuj a spusť:\n",
    "\n",
    "# knihy = [\n",
    "#     {\"nazev\": \"1984\", \"autor\": \"Orwell\", \"rok\": 1949},\n",
    "#     {\"nazev\": \"Hobit\", \"autor\": \"Tolkien\", \"rok\": 1937},\n",
    "#     {\"nazev\": \"Harry Potter\", \"autor\": \"Rowling\", \"rok\": 1997}\n",
    "# ]\n",
    "\n",
    "# print(\"Původní seznam knih:\")\n",
    "# for kniha in knihy:\n",
    "#     print(f\"- {kniha}\")\n",
    "\n",
    "# 1. Přidej novou knihu\n",
    "# nova_kniha = {\"nazev\": \"Dune\", \"autor\": \"Herbert\", \"rok\": 1965}\n",
    "# knihy.append(nova_kniha)\n",
    "# print(f\"\\nPo přidání: {nova_kniha}\")\n",
    "\n",
    "# 2. Vypiš všechny názvy knih\n",
    "# print(\"\\nVšechny názvy knih:\")\n",
    "# for kniha in knihy:\n",
    "#     print(f\"- {kniha['nazev']}\")\n",
    "\n",
    "# 3. Najdi všechny knihy vydané po roce 1950\n",
    "# print(\"\\nKnihy vydané po roce 1950:\")\n",
    "# for kniha in knihy:\n",
    "#     if kniha[\"rok\"] > 1950:\n",
    "#         print(f\"- {kniha['nazev']} ({kniha['rok']})\")\n",
    "\n",
    "# Bonus: Seřaď knihy podle roku vydání\n",
    "# knihy_serazene = sorted(knihy, key=lambda k: k[\"rok\"])\n",
    "# print(\"\\nKnihy seřazené podle roku:\")\n",
    "# for kniha in knihy_serazene:\n",
    "#     print(f\"- {kniha['nazev']} - {kniha['autor']} ({kniha['rok']})\")"
   ]
  },
  {
   "cell_type": "markdown",
   "id": "88df4d52",
   "metadata": {},
   "source": [
    "## Shrnutí\n",
    "\n",
    "Gratulace! Dokončil/a jsi opakování základních datových struktur v Pythonu. Zde je rychlé shrnutí:\n",
    "\n",
    "### Kdy použít kterou strukturu?\n",
    "\n",
    "| Struktura | Kdy použít | Příklad použití |\n",
    "|-----------|------------|-----------------|\n",
    "| **List** | Potřebuješ uspořádanou, měnitelnou kolekci | Seznam úkolů, výsledky testů |\n",
    "| **Tuple** | Potřebuješ neměnitelná data, souřadnice | GPS souřadnice, RGB barvy |\n",
    "| **Set** | Potřebuješ unikátní prvky, rychlé vyhledávání | Seznam unikátních návštěvníků |\n",
    "| **Dict** | Potřebuješ párovat klíče s hodnotami | Databáze studentů, konfigurace |\n",
    "\n",
    "### Klíčové vlastnosti:\n",
    "\n",
    "- **Seznamy**: uspořádané, měnitelné, povolovány duplicity\n",
    "- **N-tice**: uspořádané, neměnitelné, povolovány duplicity  \n",
    "- **Množiny**: neuspořádané, měnitelné (ale prvky neměnitelné), žádné duplicity\n",
    "- **Slovníky**: uspořádané (od Python 3.7+), měnitelné, unikátní klíče"
   ]
  }
 ],
 "metadata": {
  "language_info": {
   "name": "python"
  }
 },
 "nbformat": 4,
 "nbformat_minor": 5
}
